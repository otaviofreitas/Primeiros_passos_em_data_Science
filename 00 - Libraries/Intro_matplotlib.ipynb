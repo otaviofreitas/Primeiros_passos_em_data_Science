{
 "cells": [
  {
   "cell_type": "markdown",
   "id": "044ede33",
   "metadata": {},
   "source": [
    "# Uma ~não tão~ breve introdução ao matplotlib\n",
    "\n",
    "Um bom cientísta de dados, além de saber programar bem, entender de *Machine Learning* e algoritimos de inteligencia artificial precisa saber vender seu peixe, e vender seu peixer significa apresentar bem suas conclusões e boa parte dos dados que analisamos podem ser demontrados através de gráficos. \n",
    "\n",
    "E para visualizar dados nada melhor que a biblioteca `matplotlib`. Esta é uma biblioteca básica, mas muito útil para quem quer visualizar dados simples e além disse é aberta e pode ser utilizada por qualquer um. \n",
    "\n",
    "Partindo do começo então precisamos importar a biblioteca. Da mesma forma que a Pandas (se você não leu o artigo sobre o Pandas, depois dá uma passadinha lá para entender sobre a biblioteca mais importante para o cientista de dados) comumente atribuimos as funções da `matplotlib` como `plt`.\n",
    "\n",
    "Para importarmos a biblioteca então usamos o comando:"
   ]
  },
  {
   "cell_type": "code",
   "execution_count": 2,
   "id": "1652abaf",
   "metadata": {},
   "outputs": [],
   "source": [
    "import matplotlib as plt"
   ]
  },
  {
   "cell_type": "markdown",
   "id": "e3901d41",
   "metadata": {},
   "source": [
    "## Gráfico de barras e Histograma\n",
    "\n",
    "Copiar exemplo dos dados do capitulo de estatística. "
   ]
  },
  {
   "cell_type": "markdown",
   "id": "05b2346f",
   "metadata": {},
   "source": [
    "## Links importantes\n",
    "\n",
    "Pagina da `matplotlib`: <(http://matplotlib.org/>"
   ]
  }
 ],
 "metadata": {
  "kernelspec": {
   "display_name": "Python 3 (ipykernel)",
   "language": "python",
   "name": "python3"
  },
  "language_info": {
   "codemirror_mode": {
    "name": "ipython",
    "version": 3
   },
   "file_extension": ".py",
   "mimetype": "text/x-python",
   "name": "python",
   "nbconvert_exporter": "python",
   "pygments_lexer": "ipython3",
   "version": "3.9.12"
  }
 },
 "nbformat": 4,
 "nbformat_minor": 5
}
