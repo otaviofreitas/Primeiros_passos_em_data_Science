{
 "cells": [
  {
   "cell_type": "markdown",
   "id": "0b2179cf",
   "metadata": {},
   "source": [
    "# Uma ~não tão~ breve introdução ao matplotlib\n",
    "\n",
    "Um bom cientísta de dados, além de saber programar bem, entender de *Machine Learning* e algoritimos de inteligencia artificial precisa saber vender seu peixe, e vender seu peixer significa apresentar bem suas conclusões e boa parte dos dados que "
   ]
  }
 ],
 "metadata": {
  "kernelspec": {
   "display_name": "Python 3 (ipykernel)",
   "language": "python",
   "name": "python3"
  },
  "language_info": {
   "codemirror_mode": {
    "name": "ipython",
    "version": 3
   },
   "file_extension": ".py",
   "mimetype": "text/x-python",
   "name": "python",
   "nbconvert_exporter": "python",
   "pygments_lexer": "ipython3",
   "version": "3.9.12"
  }
 },
 "nbformat": 4,
 "nbformat_minor": 5
}
