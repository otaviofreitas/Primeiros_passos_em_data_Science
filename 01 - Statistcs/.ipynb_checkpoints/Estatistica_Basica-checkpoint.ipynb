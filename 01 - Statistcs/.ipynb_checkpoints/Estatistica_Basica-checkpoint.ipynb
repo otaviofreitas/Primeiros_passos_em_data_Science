{
 "cells": [
  {
   "cell_type": "markdown",
   "metadata": {
    "id": "GFlBBRoQcwLy"
   },
   "source": [
    "## Dicionário de funções\n",
    "\n",
    "`range(n)` - Função cria uma lista ordenada de tamanho `n`.\n",
    "\n",
    "`zip ()` - Função zip compacta duas variáveis tipo list formando tuplas dos elementos de cada uma dos elementos dos respectivas posições. Exemplo:\n",
    "\n",
    "zip(v,w) = [(v[0],w[0]),(v[1],w[1])]\n",
    "\n",
    "`reduce` - lib: `functool` - A função `reduce` reduz uma variável `list` em um único valor usando uma função de duas variáveis:\n",
    "\n",
    "```\n",
    "x = [a,b]\n",
    "\n",
    "def sum(a,b):\n",
    "    return a+b\n",
    "\n",
    "total = reduce(sum, x)\n",
    "\n",
    "```\n",
    "\n",
    "`choice ()` - lib:`random` -  a função `choice` escolhe de maneira aleatória elementos em uma variavel tipo `list` \n",
    "\n",
    "`Counter`- lib: `collections` - a função `Counter` é um contador de elementos dentro de uma lista. Ele cria uma lista em que cada elemento \n",
    "\n",
    "\n"
   ]
  },
  {
   "cell_type": "code",
   "execution_count": 56,
   "metadata": {
    "id": "a8YR5AAjbMGr"
   },
   "outputs": [],
   "source": [
    "# Importar a função reduce da Biblioteca functool para permitir o uso\n",
    "import matplotlib.pyplot as plt  # Biblioteca de Plotagem de gráficos (esplicar depois)\n",
    "from functools import reduce\n",
    "from random import choice\n",
    "\n",
    "from collections import Counter"
   ]
  },
  {
   "cell_type": "markdown",
   "metadata": {
    "id": "E7acB74vPDjA"
   },
   "source": [
    "Operações com vetores\n",
    "* Soma de vetores: `vector_add`\n",
    "* Subtração de vetores: `vector_subtract`\n",
    "* Somar vários vetores: `func_vector_sum`\n",
    "\n"
   ]
  },
  {
   "cell_type": "code",
   "execution_count": 5,
   "metadata": {
    "colab": {
     "base_uri": "https://localhost:8080/"
    },
    "id": "8W5peHnCN6BI",
    "outputId": "8a1bd0f4-7635-41e2-9514-bca6cda52143",
    "scrolled": true
   },
   "outputs": [
    {
     "name": "stdout",
     "output_type": "stream",
     "text": [
      "[8, 8]\n",
      "[8, 8]\n"
     ]
    }
   ],
   "source": [
    "def vector_add(v,w): # Soma os vetores (v,w)\n",
    "    return [v_i + w_i \n",
    "            for v_i,w_i in zip(v,w)]\n",
    "# Teste da função\n",
    "vector_sum = vector_add(v1,w1)\n",
    "\n",
    "def vector_substract(v,w): # Subtrai os vetores (v,w)\n",
    "    return [v_i - w_i \n",
    "            for v_i,w_i in zip(v,w)]\n",
    "\n",
    "# Teste da função\n",
    "vector_sub= vector_substract(v1,w1)\n",
    "\n",
    "def func_vector_sum (vectors): \n",
    "  result = vectors[0] \n",
    "  for vector in vectors[1:]:\n",
    "    result = vector_add(result,vector)\n",
    "  return result  # prestar atenção na identação\n",
    "\n",
    "sum_vectors = func_vector_sum(vectors1)\n",
    "\n",
    "print(sum_vectors)\n",
    "\n",
    "def vector_sum (vectors): # Usando a função reduce\n",
    "    return reduce(vector_add,vectors)\n",
    "\n",
    "sum_vectors1 = vector_sum(vectors1)\n",
    "\n",
    "print(sum_vectors1)"
   ]
  },
  {
   "cell_type": "markdown",
   "metadata": {
    "id": "-4CLoba_gUxm"
   },
   "source": [
    "## Estatística\n",
    "\n",
    "Estatítica e probabilidade são as basesda ciência de dados. Estatística busca resumir características de um conjunto de dados através de um único dado ou poucos dados. \n",
    "\n",
    "Primeiro passo, vamos gerar dados aleatórios entre 1 e 100 para serem usados com exemplo. Vamos definir uma função em que  gera-se números inteiros de 18 a 60 anos de forma aleatórias utilizando a função ´random.choice´ (verificar no dicionário de funções). Esses números aleatórios vamos dizer que são idades de pessoas em um experimento.\n",
    "\n"
   ]
  },
  {
   "cell_type": "code",
   "execution_count": 40,
   "metadata": {
    "id": "AZXYuGIigUNh"
   },
   "outputs": [],
   "source": [
    "def choose_between (n,lb,ub):\n",
    "# Seleciona n números >= lb e <= ub podendo ter valores repetidos\n",
    "    sample = range(lb,ub)\n",
    "    result = []\n",
    "    for x in range(n):\n",
    "        result.append(choice(sample))\n",
    "    return result\n"
   ]
  },
  {
   "cell_type": "code",
   "execution_count": 65,
   "metadata": {
    "scrolled": true
   },
   "outputs": [
    {
     "name": "stdout",
     "output_type": "stream",
     "text": [
      "[56, 23, 59, 35, 41, 42, 36, 23, 31, 52, 22, 52, 17, 27, 42, 56, 28, 45, 26, 32, 36, 16, 29, 21, 44, 21, 35, 50, 55, 20, 25, 38, 29, 39, 33, 27, 46, 39, 47, 19, 47, 29, 24, 58, 39, 29, 30, 29, 59, 58, 18, 50, 41, 23, 33, 20, 46, 56, 42, 39, 28, 26, 21, 21, 25, 49, 41, 50, 16, 55, 25, 35, 42, 18, 35, 47, 26, 54, 54, 52, 24, 19, 44, 28, 55, 42, 37, 30, 35, 31, 37, 30, 46, 54, 45, 18, 38, 54, 29, 43, 57, 39, 50, 48, 45, 57, 33, 25, 27, 28, 22, 44, 39, 35, 40, 33, 56, 36, 41, 17, 46, 47, 57, 24, 36, 18, 19, 23, 56, 57, 49, 24, 27, 49, 39, 31, 52, 26, 28, 32, 40, 56, 26, 59, 24, 17, 28, 49, 18, 30, 29, 56, 26, 49, 26, 53, 34, 58, 33, 41, 33, 19, 45, 28, 37, 40, 16, 30, 44, 55, 17, 51, 40, 27, 16, 43, 43, 16, 44, 54, 44, 28, 17, 24, 54, 19, 34, 35, 31, 24, 43, 52, 18, 44, 50, 42, 28, 34, 41, 54, 22, 50, 54, 54, 35, 28, 48, 36, 52, 56, 51, 27, 30, 51, 37, 43, 48, 37, 54, 21, 25, 39, 52, 40, 49, 48, 47, 18, 51, 26, 27, 53, 50, 38, 29, 53, 26, 37, 18, 30, 21, 37, 48, 55, 33, 58, 18, 26, 24, 30, 41, 41, 30, 51, 53, 42, 25, 48, 27, 22, 42, 40, 41, 39, 22, 58, 21, 50, 42, 44, 57, 20, 47, 17, 37, 59, 59, 46, 16, 55, 41, 37, 41, 18, 27, 18, 26, 50, 49, 45, 42, 59, 45, 48, 16, 58, 45, 35, 30, 54, 34, 26, 52, 20, 37, 54, 41, 17, 30, 52, 37, 30, 39, 44, 16, 49, 17, 24, 49, 20, 53, 30, 39, 23, 49, 45, 58, 56, 58, 56, 18, 48, 16, 31, 42, 58, 52, 46, 46, 50, 45, 48, 47, 55, 33, 28, 31, 27, 56, 46, 31, 32, 53, 33, 25, 30, 31, 59, 40, 19, 46, 47, 29, 43, 27, 22, 21, 49, 34, 38, 39, 25, 45, 18, 33, 17, 17, 43, 48, 27, 42, 27, 23, 49, 57, 27, 34, 31, 41, 18, 16, 46, 46, 52, 21, 27, 22, 27, 17, 27, 59, 50, 24, 36, 56, 45, 42, 22, 35, 50, 31, 52, 32, 31, 58, 50, 55, 46, 40, 54, 24, 31, 39, 35, 17, 53, 48, 56, 54, 22, 55, 23, 56, 17, 16, 48, 54, 41, 45, 24, 30, 48, 45, 43, 52, 42, 57, 24, 37, 21, 48, 44, 26, 50, 21, 58, 43, 43, 27, 58, 59, 41, 55, 43, 33, 23, 56, 35, 41, 50, 37, 53, 20, 21, 50, 35, 55, 48, 26, 59, 48, 48, 45, 22, 47, 54, 49, 45, 50, 23, 35, 53, 36, 36, 58, 24, 27, 51, 39, 41, 54, 17, 21, 42, 52, 44, 58, 16, 51, 57, 26, 51, 18, 46, 32, 23, 18, 49, 58, 45, 24, 30, 16, 56, 18, 58, 24, 53, 45, 30, 57, 33, 59, 52, 49, 19, 26, 16, 47, 21, 24, 29, 54, 35, 38, 42, 36, 51, 22, 24, 59, 24, 53, 41, 58, 33, 17, 20, 18, 43, 17, 24, 53, 25, 40, 45, 18, 40, 29, 38, 32, 51, 55, 16, 51, 22, 52, 47, 34, 23, 42, 42, 45, 34, 16, 48, 28, 57, 22, 34, 35, 21, 57, 26, 56, 41, 36, 56, 24, 59, 16, 43, 27, 54, 26, 31, 20, 50, 52, 43, 51, 31, 27, 59, 44, 26, 45, 42, 57, 50, 48, 27, 37, 30, 16, 39, 43, 21, 22, 55, 46, 20, 24, 19, 59, 49, 17, 44, 55, 52, 54, 52, 35, 35, 52, 47, 20, 43, 54, 36, 25, 51, 30, 17, 22, 53, 45, 50, 57, 20, 30, 46, 40, 21, 56, 17, 26, 37, 28, 31, 43, 19, 44, 41, 43, 30, 33, 33, 27, 50, 25, 45, 59, 33, 22, 52, 59, 21, 55, 41, 33, 37, 43, 23, 49, 53, 32, 18, 30, 58, 54, 44, 38, 52, 50, 58, 57, 50, 43, 44, 35, 49, 21, 30, 56, 21, 37, 41, 56, 28, 32, 34, 28, 32, 37, 52, 28, 26, 57, 21, 54, 16, 27, 32, 53, 52, 55, 47, 55, 33, 50, 19, 35, 53, 23, 52, 53, 56, 31, 39, 24, 33, 44, 52, 36, 35, 16, 28, 56, 38, 27, 33, 45, 25, 32, 23, 22, 47, 42, 57, 58, 28, 56, 52, 42, 57, 37, 27, 35, 18, 46, 21, 53, 47, 57, 43, 19, 23, 51, 29, 34, 46, 51, 40, 53, 24, 36, 59, 57, 45, 58, 30, 41, 16, 48, 53, 43, 46, 44, 19, 37, 57, 41, 18, 17, 34, 24, 50, 27, 25, 16, 42, 53, 46, 51, 29, 19, 52, 36, 23, 28, 59, 20, 16, 59, 47, 23, 58, 22, 59, 35, 37, 32, 43, 55, 28, 43, 27, 22, 24, 52, 26, 34, 38, 42, 28, 19, 30, 52, 18, 17, 59, 18, 27, 45, 36, 26, 55, 45, 42, 33, 20, 44, 40, 31, 49, 47, 35, 48, 50, 36, 25, 32, 20, 52, 57, 33, 30, 42, 25, 37, 28, 26, 58, 26, 46, 46, 44, 50, 43, 58, 58, 29, 25, 31, 31, 49, 16, 29, 58, 25, 34, 28, 51, 44, 22, 50, 30, 44, 52, 29, 29, 48, 46, 19, 50, 58, 31, 17, 51, 21, 59, 57, 17, 56, 34, 50, 50, 42, 57, 58, 43, 47, 26, 27, 25, 45, 16, 46, 54, 43, 51, 37, 21, 52, 25, 18, 30, 34, 39, 34, 22, 20, 53, 55, 44, 36, 46, 40, 19, 57, 25, 46, 24, 45, 29, 30, 44, 32, 56, 35, 41, 48, 20, 42, 59, 59, 24, 33, 34, 33, 50, 37, 40, 51, 26, 47, 41, 45, 58]\n"
     ]
    }
   ],
   "source": [
    "num_part = 1000\n",
    "min_age = 16\n",
    "max_age = 60\n",
    "\n",
    "ages = choose_between(num_part,min_age,max_age)\n",
    "\n",
    "print(ages)"
   ]
  },
  {
   "cell_type": "markdown",
   "metadata": {},
   "source": [
    "Após gerados os dados vamos visualizá-los plotando um histograma das idades.\n",
    "Utilizando um contador `Counter` vamos contar os valores e plotar um um gráfico de barras"
   ]
  },
  {
   "cell_type": "code",
   "execution_count": 66,
   "metadata": {},
   "outputs": [
    {
     "name": "stdout",
     "output_type": "stream",
     "text": [
      "[25, 23, 25, 16, 16, 24, 21, 17, 28, 20, 27, 30, 23, 18, 29, 20, 14, 24, 18, 25, 17, 24, 9, 17, 15, 26, 27, 27, 24, 29, 25, 19, 23, 20, 32, 20, 33, 22, 24, 20, 26, 24, 29, 25]\n"
     ]
    }
   ],
   "source": [
    "ages_counts = Counter(ages) # Contador de valores repetidos\n",
    "xs = range(min_age, max_age) # Variável dos valores que vão estar no eixo x começando da idade\n",
    "                            #  mínima até a idade máxima para participar do experimento\n",
    "\n",
    "ys = [ages_counts [x] for x in xs]\n",
    "\n",
    "print(ys)\n"
   ]
  },
  {
   "cell_type": "code",
   "execution_count": 67,
   "metadata": {},
   "outputs": [
    {
     "data": {
      "image/png": "[encoded data removed]",
      "text/plain": [
       "<Figure size 432x288 with 1 Axes>"
      ]
     },
     "metadata": {
      "needs_background": "light"
     },
     "output_type": "display_data"
    }
   ],
   "source": [
    "\n",
    "plt.bar(xs,ys)  #Define o gráfico como um gráfico de barras\n",
    "\n",
    "\n",
    "plt.show()\n"
   ]
  }
 ],
 "metadata": {
  "colab": {
   "name": "Parte 1 - Vetores.ipynb",
   "provenance": []
  },
  "kernelspec": {
   "display_name": "Python 3 (ipykernel)",
   "language": "python",
   "name": "python3"
  },
  "language_info": {
   "codemirror_mode": {
    "name": "ipython",
    "version": 3
   },
   "file_extension": ".py",
   "mimetype": "text/x-python",
   "name": "python",
   "nbconvert_exporter": "python",
   "pygments_lexer": "ipython3",
   "version": "3.9.12"
  }
 },
 "nbformat": 4,
 "nbformat_minor": 1
}
