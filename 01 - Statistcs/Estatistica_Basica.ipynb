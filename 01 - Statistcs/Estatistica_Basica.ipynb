{
 "cells": [
  {
   "cell_type": "markdown",
   "metadata": {
    "id": "E7acB74vPDjA"
   },
   "source": [
    "# Operações com vetores\n",
    "\n",
    "* Soma de vetores: `vector_add`\n",
    "* Subtração de vetores: `vector_subtract`\n",
    "* Somar vários vetores: `func_vector_sum`\n",
    "\n"
   ]
  },
  {
   "cell_type": "code",
   "execution_count": 1,
   "metadata": {
    "colab": {
     "base_uri": "https://localhost:8080/"
    },
    "id": "8W5peHnCN6BI",
    "outputId": "8a1bd0f4-7635-41e2-9514-bca6cda52143",
    "scrolled": true
   },
   "outputs": [
    {
     "ename": "NameError",
     "evalue": "name 'v1' is not defined",
     "output_type": "error",
     "traceback": [
      "\u001b[1;31m---------------------------------------------------------------------------\u001b[0m",
      "\u001b[1;31mNameError\u001b[0m                                 Traceback (most recent call last)",
      "\u001b[1;32mc:\\Users\\otavi\\OneDrive\\Área de Trabalho\\Data Science Project\\01 - Statistcs\\Estatistica_Basica.ipynb Cell 2'\u001b[0m in \u001b[0;36m<cell line: 5>\u001b[1;34m()\u001b[0m\n\u001b[0;32m      <a href='vscode-notebook-cell:/c%3A/Users/otavi/OneDrive/%C3%81rea%20de%20Trabalho/Data%20Science%20Project/01%20-%20Statistcs/Estatistica_Basica.ipynb#ch0000001?line=1'>2</a>\u001b[0m     \u001b[39mreturn\u001b[39;00m [v_i \u001b[39m+\u001b[39m w_i \n\u001b[0;32m      <a href='vscode-notebook-cell:/c%3A/Users/otavi/OneDrive/%C3%81rea%20de%20Trabalho/Data%20Science%20Project/01%20-%20Statistcs/Estatistica_Basica.ipynb#ch0000001?line=2'>3</a>\u001b[0m             \u001b[39mfor\u001b[39;00m v_i,w_i \u001b[39min\u001b[39;00m \u001b[39mzip\u001b[39m(v,w)]\n\u001b[0;32m      <a href='vscode-notebook-cell:/c%3A/Users/otavi/OneDrive/%C3%81rea%20de%20Trabalho/Data%20Science%20Project/01%20-%20Statistcs/Estatistica_Basica.ipynb#ch0000001?line=3'>4</a>\u001b[0m \u001b[39m# Teste da função\u001b[39;00m\n\u001b[1;32m----> <a href='vscode-notebook-cell:/c%3A/Users/otavi/OneDrive/%C3%81rea%20de%20Trabalho/Data%20Science%20Project/01%20-%20Statistcs/Estatistica_Basica.ipynb#ch0000001?line=4'>5</a>\u001b[0m vector_sum \u001b[39m=\u001b[39m vector_add(v1,w1)\n\u001b[0;32m      <a href='vscode-notebook-cell:/c%3A/Users/otavi/OneDrive/%C3%81rea%20de%20Trabalho/Data%20Science%20Project/01%20-%20Statistcs/Estatistica_Basica.ipynb#ch0000001?line=6'>7</a>\u001b[0m \u001b[39mdef\u001b[39;00m \u001b[39mvector_substract\u001b[39m(v,w): \u001b[39m# Subtrai os vetores (v,w)\u001b[39;00m\n\u001b[0;32m      <a href='vscode-notebook-cell:/c%3A/Users/otavi/OneDrive/%C3%81rea%20de%20Trabalho/Data%20Science%20Project/01%20-%20Statistcs/Estatistica_Basica.ipynb#ch0000001?line=7'>8</a>\u001b[0m     \u001b[39mreturn\u001b[39;00m [v_i \u001b[39m-\u001b[39m w_i \n\u001b[0;32m      <a href='vscode-notebook-cell:/c%3A/Users/otavi/OneDrive/%C3%81rea%20de%20Trabalho/Data%20Science%20Project/01%20-%20Statistcs/Estatistica_Basica.ipynb#ch0000001?line=8'>9</a>\u001b[0m             \u001b[39mfor\u001b[39;00m v_i,w_i \u001b[39min\u001b[39;00m \u001b[39mzip\u001b[39m(v,w)]\n",
      "\u001b[1;31mNameError\u001b[0m: name 'v1' is not defined"
     ]
    }
   ],
   "source": [
    "def vector_add(v,w): # Soma os vetores (v,w)\n",
    "    return [v_i + w_i \n",
    "            for v_i,w_i in zip(v,w)]\n",
    "# Teste da função\n",
    "vector_sum = vector_add(v1,w1)\n",
    "\n",
    "def vector_substract(v,w): # Subtrai os vetores (v,w)\n",
    "    return [v_i - w_i \n",
    "            for v_i,w_i in zip(v,w)]\n",
    "\n",
    "# Teste da função\n",
    "vector_sub= vector_substract(v1,w1)\n",
    "\n",
    "def func_vector_sum (vectors): \n",
    "  result = vectors[0] \n",
    "  for vector in vectors[1:]:\n",
    "    result = vector_add(result,vector)\n",
    "  return result  # prestar atenção na identação\n",
    "\n",
    "sum_vectors = func_vector_sum(vectors1)\n",
    "\n",
    "print(sum_vectors)\n",
    "\n",
    "def vector_sum (vectors): # Usando a função reduce\n",
    "    return reduce(vector_add,vectors)\n",
    "\n",
    "sum_vectors1 = vector_sum(vectors1)\n",
    "\n",
    "print(sum_vectors1)"
   ]
  },
  {
   "cell_type": "markdown",
   "metadata": {
    "id": "GFlBBRoQcwLy"
   },
   "source": [
    "## Dicionário de Funções\n",
    "\n",
    "* `len()`  - é uma função interna do Python que retorna o comprimento do objeto. Ela pode ser usada para vários tipos de variáveis como listas (`list`), dicionários (`dict`), Data Frames, entre outros. \n",
    "\n",
    "\n",
    "* `max()` - é uma função interna do Python utilizada para identificar qual o maior elemento contido dentro do objeto. Assim como a função `len()` pode ser utilizada em vários tipos de variáveis.\n",
    "\n",
    "\n",
    "* `min()` - a função semelhante à função `max()`, porém utilizada para identificar o menor elemento contido no objeto.  \n",
    "\n",
    "\n",
    "* `sum()` - essa função retorna a soma total de todos os elementos contidos no objeto e também funcionam com diversos tipos de variáveis. \n",
    "\n",
    "\n",
    "* `append()` - função que adiciona dado ao final da variável `list`\n",
    "\n",
    "Exemplo: \n",
    "\n",
    "```python\n",
    "var1 = [1 , 2 , 3]\n",
    "var1.append(4)\n",
    "\n",
    "var1 = [1 , 2 , 3 , 4]\n",
    "```\n",
    "\n",
    "* `extend()` - a função une todos os elementos de uma variavel ao final da lista:\n",
    "\n",
    "Exemplo :\n",
    "```python\n",
    "var1 = [ 1 , 2 ,3]\n",
    "\n",
    "var2 = [4, 5 , 6] \n",
    "\n",
    "var3 = var1.extend(var2) \n",
    "\n",
    "var3 = [4, 2, 3, 4, 5, 6] \n",
    "```\n",
    "\n",
    "\n",
    "* `range(n)` - Função cria uma lista ordenada de tamanho `n`. \n",
    "Exemplo: \n",
    "\n",
    "```python\n",
    "x = range(5)\n",
    "x = [0 1 2 3 4] \n",
    "\n",
    "```\n",
    "\n",
    "Podemos também definir o valor iniciar e o final da lista.\n",
    "Exemplo:\n",
    "\n",
    "```python\n",
    "x = range(5,8)\n",
    "x = [5 6 7 8] \n",
    "\n",
    "```\n",
    "\n",
    "* `abs()` - Função retorna o valor absoluto (módulo) de algum número.\n",
    "\n",
    "* `zip ()` - Função zip compacta duas variáveis tipo list formando tuplas dos elementos de cada uma dos elementos dos respectivas posições. Exemplo:\n",
    "\n",
    "```python\n",
    "zip(v,w) = [(v[0],w[0]),(v[1],w[1])]\n",
    "```\n",
    "\n",
    "* `reduce` - lib: `functool` - A função `reduce` reduz uma variável `list` em um único valor usando uma função de duas variáveis:\n",
    "\n",
    "```python\n",
    "x = [a,b]\n",
    "\n",
    "def sum(a,b):\n",
    "    return a+b\n",
    "\n",
    "total = reduce(sum, x)\n",
    "\n",
    "```\n",
    "\n",
    "\n",
    "* `choice ()` - lib:`random` -  a função `choice` escolhe de maneira aleatória elementos em uma variavel tipo `list` \n",
    "\n",
    "\n",
    "* `Counter`- lib: `collections` - a função `Counter` é um contador de elementos dentro de uma lista. Ele cria uma dicionário (variável tipo `dict`) em que cada em que a chave é o elemento relacionado e o resultado associado é quantas vezes esse elemento aparece dentro da lista. \n",
    "\n",
    "### Bibliotecas Importantes\n",
    "\n",
    "* `pandas` - É a biblioteca utilizada para se trabalhar com dados em formatos de tabelas no Python. Recomendo ler o arquivo exclusivo sobre a biblioteca Pandas aqui no blog: \n",
    "\n",
    "* `matplotlib` - É uma biblioteca amplamente utilizada para plotagem de gráficos no Python. Recomendo fortemente dar uma passadinha lá no artigo sobre essa biblioteca:\n"
   ]
  },
  {
   "cell_type": "code",
   "execution_count": 2,
   "metadata": {
    "id": "a8YR5AAjbMGr"
   },
   "outputs": [],
   "source": [
    "# Importar a função reduce da Biblioteca functool para permitir o uso\n",
    "import matplotlib.pyplot as plt  # Biblioteca de Plotagem de gráficos (esplicar depois)\n",
    "from functools import reduce\n",
    "from random import choice\n",
    "import pandas as pd\n",
    "from collections import Counter"
   ]
  },
  {
   "cell_type": "markdown",
   "metadata": {
    "id": "-4CLoba_gUxm"
   },
   "source": [
    "# Estatística Descritiva\n",
    "\n",
    "## Medidas de Tendencias Centrais (Média, Mediana e Moda)\n",
    "\n",
    "Estatítica e probabilidade são as bases da ciência de dados. A estatística descritiva busca resumir características de um conjunto de dados através de um único dado ou poucos dados. Aqui vamos apresentar alguns dos conceitos básicos de estatística descritiva e algumas de suas funções as suas funções.\n",
    "\n",
    "Aqui importaremos os dados que vamos utilizar em boa parte das análises daqui para frente. Os dados são do excelente livro *Bussab, W. D. O., & Morettin, P. A. (2010). Estatística básica.* O passo a passo de obtenção dos dados estão descritos nos primeiros tópicos do artigo sobre a biblioteca Pandas. Recomendo fortemente executar os passos do arquivo pois serão muito úteis em todo o aprendizado. Os dados estão disponibilizado em <https://rstudio-pubs-static.s3.amazonaws.com/243861_cc96378e0bfd4cefb30bc3110ccccf64.html> e também no arquivo `Dataset_CompanhiaMB.txt`, na pasta.\n",
    "\n",
    "Para importar os dados usaremos os comandos abaixo:"
   ]
  },
  {
   "cell_type": "code",
   "execution_count": 3,
   "metadata": {},
   "outputs": [],
   "source": [
    "Comp_MB = pd.read_csv(\"Dataset_CompanhiaMB.txt\", sep =\";\", decimal = \",\")"
   ]
  },
  {
   "cell_type": "markdown",
   "metadata": {},
   "source": [
    "Os dados abaixo são dados de funcionários da empresa *Companhia MB* organizados em uma tabela contendo o estado civil(solteiro, casado), grau de escolaridade(fundamental/médio/superior), número de filhos, idade em anos e meses (uma coluna para os anos e outra para os meses) e se o funcionário é procedente da capital, interior ou outra. \n",
    "\n",
    "Apenas olhando a tabela não é possível extrair muitas informações dos dados, porém podemos fazer algumas análises utilizando o básico de estatística descritiva. A primeira informação que estamos interessados a respeito dos dados é o número de funcionários que a base possui. Vamos fazer isso através da função `len()`. "
   ]
  },
  {
   "cell_type": "code",
   "execution_count": 4,
   "metadata": {
    "scrolled": true
   },
   "outputs": [
    {
     "name": "stdout",
     "output_type": "stream",
     "text": [
      "O setor possui  36  funcionários.\n"
     ]
    }
   ],
   "source": [
    "num_fun = len(Comp_MB)\n",
    "\n",
    "print('O setor possui ', num_fun , ' funcionários.')"
   ]
  },
  {
   "cell_type": "markdown",
   "metadata": {},
   "source": [
    "Essa informação sozinha não é muito útil. Nós queremos analisar os dados contidos nesse conjuto de dados tomar decisões e com base nas informações contidas nessa base. \n",
    "\n",
    "Sabemos que uma das informações que essa base possui são as idades dos funcionários, portanto vamos atribuir a coluna das informações de idade em uma variável:"
   ]
  },
  {
   "cell_type": "code",
   "execution_count": 5,
   "metadata": {
    "scrolled": true
   },
   "outputs": [],
   "source": [
    "ages= Comp_MB['idade_anos']\n"
   ]
  },
  {
   "cell_type": "markdown",
   "metadata": {},
   "source": [
    "Da informação de idade dos funcionários podemos verificar a idade do funcionário mais velho e o mais novo utilizando as funções `min()` e `max()`"
   ]
  },
  {
   "cell_type": "code",
   "execution_count": 6,
   "metadata": {},
   "outputs": [
    {
     "name": "stdout",
     "output_type": "stream",
     "text": [
      "O funcionário mais novo tem 20\n",
      "e o funcionário mais velho tem 48\n"
     ]
    }
   ],
   "source": [
    "min_age = min(ages)\n",
    "print('O funcionário mais novo tem', min_age)\n",
    "\n",
    "max_age=max(ages)\n",
    "print('e o funcionário mais velho tem', max_age)"
   ]
  },
  {
   "cell_type": "markdown",
   "metadata": {},
   "source": [
    "Se imprimirmos na tela os valores da variável, teremos uma tela cheia de números em que é muito difícil tirar quaisquer conclusões sobre os dados, em especial se o *dataset* for muito grande. Uma forma interessante de visualizar os dados é através de um histograma. Para podermos ver os gráficos, utilizaremos uma biblioteca chamada `matplotlib` que é um biblioteca aberta para visualização de dados. No blog tem um artigo que possui uma boa base sobre como utilizar essa biblioteca (veja no dicionário de funções). Antes de somente plotarmos os dados, é preciso processalos para construirmos um histograma."
   ]
  },
  {
   "cell_type": "markdown",
   "metadata": {},
   "source": [
    "Através da função `Counter`, vamos contar quantos funcionários de cada uma das idades dos funcionários naquele setor. Na variável `xs` vamos atribuir que vão compor o eixo $x$ do nosso histograma e no eixo $y$ estarão os a contagem de funcionários com aquela idade.   "
   ]
  },
  {
   "cell_type": "code",
   "execution_count": 7,
   "metadata": {
    "scrolled": true
   },
   "outputs": [],
   "source": [
    "ages_counts = Counter(ages)  # Contador de valores repetidos\n",
    "\n",
    "xs = range(min_age, max_age) # Variável dos valores que vão estar no eixo x começando da idade\n",
    "# mínima até a idade máxima dos funcionários\n",
    "    \n",
    "ys = [ages_counts [x] for x in xs] # Atribui a cada um dos valores de idade a contagem dos funcionários com a respectiva idade\n"
   ]
  },
  {
   "cell_type": "markdown",
   "metadata": {},
   "source": [
    "Após preparar os dados plotamos o gráfico"
   ]
  },
  {
   "cell_type": "code",
   "execution_count": 8,
   "metadata": {},
   "outputs": [
    {
     "data": {
      "image/png": "[encoded data removed]",
      "text/plain": [
       "<Figure size 432x288 with 1 Axes>"
      ]
     },
     "metadata": {
      "needs_background": "light"
     },
     "output_type": "display_data"
    }
   ],
   "source": [
    "\n",
    "plt.bar(xs,ys)                   # Define o gráfico como um gráfico de barras\n",
    "plt.ylabel(\"nº de funcionários\") # Definindo nome do eixo y\n",
    "plt.xlabel(\"Idade\")              # Definindo nome do eixo x\n",
    "plt.show()                       # Comando para exibir o gráfico\n"
   ]
  },
  {
   "cell_type": "markdown",
   "metadata": {},
   "source": [
    "Chegamos então a parte mais importantes deste capítulo que é onde vamos falar sobre as tendencias centrais. Imagine que você tenha que montar a playlist da festa desse setor mas não sabe como agradar todo mundo. De cara, o jeito mais fácil é você buscar uma idade média e estimar que as musicas \"da época\" desses funcionários vão agradar a maioria dos convidados. Imagino que você deve saber, mas caso seja algum estudante de humanas, a média nada mais é que a soma de todas as idades dividido pelo número de funcionários. Podemos então definir a função **média** da seguinte forma:"
   ]
  },
  {
   "cell_type": "code",
   "execution_count": 9,
   "metadata": {},
   "outputs": [
    {
     "name": "stdout",
     "output_type": "stream",
     "text": [
      "A média de idade dos funcionários é 34.583333333333336 anos\n"
     ]
    }
   ],
   "source": [
    "def media(x):\n",
    "    return sum(x)/len(x)\n",
    "\n",
    "print('A média de idade dos funcionários é', media(ages) ,'anos')"
   ]
  },
  {
   "cell_type": "markdown",
   "metadata": {},
   "source": [
    "Vendo que a média dos funcionários desse setor é perto de  34,5 anos, portanto você pode preparar uma playlist com bastante Legião Urbana, Molejo, Karametade e CPM22 que os funcionários vão gostar. \n",
    "\n",
    "Uma outra medida central é a mediana. Se ordenarmos a lista de idade dos funcionários em ordem crescente e procurarmos o valor do meio dessa lista temos a mediana (em caso do número de elementos for par, a mediana é a média entre os dois pontos do meio). \n",
    "\n",
    "Podemos então criar uma função para a mediana da seguinte forma: "
   ]
  },
  {
   "cell_type": "code",
   "execution_count": 10,
   "metadata": {},
   "outputs": [
    {
     "name": "stdout",
     "output_type": "stream",
     "text": [
      "A mediana das idades dos funcionários é 35.0 anos\n"
     ]
    }
   ],
   "source": [
    "def mediana(x):\n",
    "    sorted_x =  sorted (x)     # Ordena em orgem crescente a lista \n",
    "    midpoint=len(x)//2         # O simbolo // significa divisão inteira\n",
    "    \n",
    "    if len(x)%2 == 1:  # O simbolo % significa resto da divisão inteira, se o resto da divisão de um número por 2 for 1 então\n",
    "                       # este número é impar\n",
    "        median = sorted_x[midpoint]\n",
    "    else:\n",
    "        hi = midpoint +1\n",
    "        lo =midpoint\n",
    "        median = (sorted_x[hi]+sorted_x[lo])/2\n",
    "    return median\n",
    "\n",
    "print('A mediana das idades dos funcionários é', mediana(ages), 'anos')\n"
   ]
  },
  {
   "cell_type": "markdown",
   "metadata": {},
   "source": [
    "Por fim a *moda* é simplesmente o valor que mais se repete entre os dados. Em um conjunto de dados podemos ter várias modas, portanto nossa função buscará todas os valores modas no conjunto de dados. \n",
    "\n",
    "Vamos definir a função de moda da seguinte forma:"
   ]
  },
  {
   "cell_type": "code",
   "execution_count": 11,
   "metadata": {},
   "outputs": [
    {
     "name": "stdout",
     "output_type": "stream",
     "text": [
      "[26, 32, 36, 40, 41, 43, 34, 33, 37, 30, 31, 35]\n"
     ]
    }
   ],
   "source": [
    "def moda (x):\n",
    "    '''Função retorna uma lista com as modas'''\n",
    "    cont_x = Counter(x)  # Utilizando a função Counter, conta os valores que mais se repetem. \n",
    "    maxcont_x = max(cont_x.values()) # Encontra quantas vezes os números que mais se repetem aparecem\n",
    "    return [x_i for x_i, cont in cont_x.items() # retorna uma lista dos números que são iguais aos números que mais se repetem\n",
    "            if cont== maxcont_x]\n",
    "\n",
    "print (moda(ages))"
   ]
  },
  {
   "cell_type": "markdown",
   "metadata": {},
   "source": [
    "Entre as medidas de tendências centrais, sem dúvida a mais usada é a média aritmética. Porém nem sempre usar a média é aconselhável. Existem momentos em que usar a mediana faz muito mais sentido. Vamos apo exemplo. \n",
    "\n",
    "Imagine que essa mesma festa da empresa, homenageará os antigos funcionários da empresa e foram convidados 7 funcionários que participaram da fundação da empresa. \n",
    "\n",
    "Vamos então criar uma nova variável para a lista de idades dos novos convidados:"
   ]
  },
  {
   "cell_type": "code",
   "execution_count": 14,
   "metadata": {
    "scrolled": true
   },
   "outputs": [
    {
     "name": "stdout",
     "output_type": "stream",
     "text": [
      "[26, 32, 36, 20, 40, 28, 41, 43, 34, 23, 33, 27, 37, 44, 30, 38, 31, 39, 25, 37, 30, 34, 41, 26, 32, 35, 46, 29, 40, 35, 31, 36, 43, 33, 48, 42, 84, 81, 77, 76, 82, 77, 75]\n"
     ]
    }
   ],
   "source": [
    "ages2 = ages.tolist()  # Converte a váriável que estava em formato de série em variável list\n",
    "\n",
    "n_ages = [84, 81, 77, 76, 82, 77, 75]  # lista com os novos convidados\n",
    "\n",
    "ages2.extend(n_ages)\n",
    "\n",
    "print(ages2)\n"
   ]
  },
  {
   "cell_type": "code",
   "execution_count": 16,
   "metadata": {},
   "outputs": [
    {
     "name": "stdout",
     "output_type": "stream",
     "text": [
      "[20, 23, 25, 26, 26, 27, 28, 29, 30, 30, 31, 31, 32, 32, 33, 33, 34, 34, 35, 35, 36, 36, 37, 37, 38, 39, 40, 40, 41, 41, 42, 43, 43, 44, 46, 48]\n"
     ]
    }
   ],
   "source": [
    "print(sorted(ages))"
   ]
  },
  {
   "cell_type": "markdown",
   "metadata": {},
   "source": [
    "Agora calcularemos a média de idades dos convidados da festa: "
   ]
  },
  {
   "cell_type": "code",
   "execution_count": 17,
   "metadata": {},
   "outputs": [
    {
     "name": "stdout",
     "output_type": "stream",
     "text": [
      "A idade média agora é 41.7906976744186\n"
     ]
    }
   ],
   "source": [
    "med_ages2 = media(ages2)\n",
    "\n",
    "print ('A idade média agora é', med_ages2)"
   ]
  },
  {
   "cell_type": "markdown",
   "metadata": {},
   "source": [
    "Da mesma forma, se calcularmos a mediana, podemos notar que varia menos que média."
   ]
  },
  {
   "cell_type": "code",
   "execution_count": 18,
   "metadata": {},
   "outputs": [
    {
     "name": "stdout",
     "output_type": "stream",
     "text": [
      "A idade mediana agora é 36\n"
     ]
    }
   ],
   "source": [
    "median_ages2 = mediana(ages2)\n",
    "\n",
    "print ('A idade mediana agora é', median_ages2)"
   ]
  },
  {
   "cell_type": "markdown",
   "metadata": {},
   "source": [
    "Dessa forma, notamos que a mediana é menos sensível a valores extremos e portanto para muitos casos ela é uma medida mais robusta que a média. "
   ]
  },
  {
   "cell_type": "markdown",
   "metadata": {},
   "source": [
    "## Medidas de dispersão\n",
    "\n",
    "Como vimos anteriormente, muitas vezes a informação da medida de tendencia central dos dados não nos dão uma perspectiva muito grande a respeito de todo o conjunto. Quando incluimos os novos convidados, a mediana saiu de 35 para 36 pessoas, porém não tempos ideia do quão heretogêneo em termos de variação de idade esse grupo possui. Para se ter uma noção disso usamos as medidas de dispersão que são elas: \n",
    "\n",
    "* Desvio médio;\n",
    "\n",
    "* Variância média;\n",
    "\n",
    "* Desvio Padrão;\n",
    "\n",
    "Uma primeira forma simples de entendermos o quão homogêneo é esse grupo seria verificar qual a distânca média de cada um dos dados para a medida central deles, por exemplo a média. Porém se fizermos dessa forma, para os casos em que a distância for negatia, os valores se anularão com os positivos e não temos uma dimensão perfeita da dispersão dos dados. Para sanar esse problema, basta utilzar o módulo dessa diferença, assim temos o *desvio médio*: \n",
    "\n",
    "$$ \n",
    "dm (X) = \\sum_{i=1}^n \\frac{|x_i - \\bar{x} |}{n}\n",
    "$$\n",
    "\n",
    "Outra forma também é elevarmos o valor da distância ao quadrado e assim temos a variância: \n",
    "\n",
    "$$\n",
    "var (X) = \\sum_{i=1}^n \\frac{(x_i - \\bar{x} )^2}{n}\n",
    "$$\n",
    "\n",
    "Para o caso da variância, note que temos um pblema de dimensão dos dados. Se tivermos por exemplo um conjunto de distâncias (em Km) entre cidades, e calcularmos a varância da distância teriamos uma unidade em Km $^2$ que é uma medida usualmente de área. Um dado apresentado dessa forma pode causar problemas de interpretação, portanto o mais recomentada é que se use o desvio padrão que nada mais é do que a raiz quadrada da variância:\n",
    "\n",
    "$$\n",
    "dp(X)=\\sqrt{var(X)}\n",
    "$$\n",
    "\n",
    "\n",
    "partindo para o código temos então: \n"
   ]
  },
  {
   "cell_type": "code",
   "execution_count": 19,
   "metadata": {},
   "outputs": [
    {
     "name": "stdout",
     "output_type": "stream",
     "text": [
      "O desvio médio das idades é de 12.777717685235258 anos.\n",
      "A variância das idades é de 305.74689021092485 anos^2.\n",
      "O desvio padrão das idades é de 17.485619526082708 anos.\n"
     ]
    }
   ],
   "source": [
    "def desvio_med (X):\n",
    "    n = len(X)\n",
    "    Med_X = media(X)\n",
    "    sum_d=[]\n",
    "    for i in range(n):\n",
    "        sum_d.append(abs(X[i]-Med_X))\n",
    "    dm = sum(sum_d)/n\n",
    "    return dm\n",
    "\n",
    "dm_x = desvio_med(ages2)\n",
    "\n",
    "print('O desvio médio das idades é de', dm_x , 'anos.')\n",
    "\n",
    "def variancia(X):\n",
    "    n=len(X)\n",
    "    med_X =media(X)\n",
    "    sum_v =[]\n",
    "    for i in range(n):\n",
    "        sum_v.append((X[i]-med_X)**2)  # Simbolo de potência em Python é **\n",
    "    var = (sum(sum_v)/n)\n",
    "    return var\n",
    "\n",
    "var_x = variancia(ages2)\n",
    "\n",
    "print('A variância das idades é de', var_x, 'anos^2.')\n",
    "\n",
    "def dp(X):\n",
    "    dp_X = (var_x)**0.5          # Lembrando que a raiz de um número é o mesmo que elevá-lo à 1/2\n",
    "    return dp_X\n",
    "\n",
    "dp_X = dp(ages2) \n",
    "\n",
    "print('O desvio padrão das idades é de', dp_X, 'anos.')"
   ]
  },
  {
   "cell_type": "markdown",
   "metadata": {},
   "source": [
    "O desvio padrão nos informa qual é o erro se substituíssemos os dados pela média dos dados. Quanto maior for esse número, mais disperso é o conjunto de dados.\n",
    "\n",
    "Comparando com o primeiro grupo (declarado pela variável ´ages´) podemos notar isso."
   ]
  },
  {
   "cell_type": "code",
   "execution_count": 20,
   "metadata": {},
   "outputs": [
    {
     "name": "stdout",
     "output_type": "stream",
     "text": [
      "17.485619526082708\n",
      "17.485619526082708\n"
     ]
    }
   ],
   "source": [
    "dp_ages1 = dp(ages)\n",
    "\n",
    "print(dp_ages1)\n",
    "\n",
    "dp_ages2 =dp(ages2)\n",
    "print(dp_ages2)\n"
   ]
  },
  {
   "cell_type": "markdown",
   "metadata": {},
   "source": [
    "# Até aqui está pronto\n",
    "\n",
    "## Temas ainda a complementar\n",
    "* Medidas de Dispersão\n",
    "* Quantis Empíricos (talvez falar)\n",
    "* Correlação"
   ]
  },
  {
   "cell_type": "code",
   "execution_count": null,
   "metadata": {
    "id": "AZXYuGIigUNh"
   },
   "outputs": [],
   "source": [
    "def choose_between (n,lb,ub):\n",
    "# Seleciona n números >= lb e <ub podendo ter valores repetidos\n",
    "    sample = range(lb,ub) \n",
    "    result = []\n",
    "    for x in range(n):\n",
    "        result.append(choice(sample))\n",
    "    return result\n"
   ]
  },
  {
   "cell_type": "markdown",
   "metadata": {},
   "source": [
    "Após gerados os dados vamos visualizá-los plotando um histograma das idades.\n",
    "Utilizando um contador `Counter` vamos contar os valores e plotar um um gráfico de barras"
   ]
  },
  {
   "cell_type": "code",
   "execution_count": null,
   "metadata": {},
   "outputs": [
    {
     "name": "stdout",
     "output_type": "stream",
     "text": [
      "36 48 20\n"
     ]
    }
   ],
   "source": [
    "num_data = len(ages) # Número de participantes\n",
    "older = max(ages)    # Maior idade registrada\n",
    "younger = min (ages) # Menor idade registrada\n",
    "\n",
    "print(num_data, older, younger)\n",
    "\n"
   ]
  },
  {
   "cell_type": "code",
   "execution_count": null,
   "metadata": {},
   "outputs": [],
   "source": [
    "def med_dados (vector):\n",
    "    num_dados = len(vector)\n",
    "    for x in range(num_dados):\n",
    "        sum = sum + vector(x)\n",
    "    \n",
    "    "
   ]
  },
  {
   "cell_type": "code",
   "execution_count": 21,
   "metadata": {},
   "outputs": [
    {
     "ename": "OSError",
     "evalue": "[Errno 22] Invalid argument: 'out\\x07ges.csv'",
     "output_type": "error",
     "traceback": [
      "\u001b[1;31m---------------------------------------------------------------------------\u001b[0m",
      "\u001b[1;31mOSError\u001b[0m                                   Traceback (most recent call last)",
      "\u001b[1;32mc:\\Users\\otavi\\OneDrive\\Área de Trabalho\\Data Science Project\\01 - Statistcs\\Estatistica_Basica.ipynb Cell 41'\u001b[0m in \u001b[0;36m<cell line: 1>\u001b[1;34m()\u001b[0m\n\u001b[1;32m----> <a href='vscode-notebook-cell:/c%3A/Users/otavi/OneDrive/%C3%81rea%20de%20Trabalho/Data%20Science%20Project/01%20-%20Statistcs/Estatistica_Basica.ipynb#ch0000043?line=0'>1</a>\u001b[0m ages\u001b[39m.\u001b[39;49mto_csv(\u001b[39m'\u001b[39;49m\u001b[39mout\u001b[39;49m\u001b[39m\\a\u001b[39;49;00m\u001b[39mges.csv\u001b[39;49m\u001b[39m'\u001b[39;49m)\n",
      "File \u001b[1;32m~\\anaconda3\\lib\\site-packages\\pandas\\core\\generic.py:3551\u001b[0m, in \u001b[0;36mNDFrame.to_csv\u001b[1;34m(self, path_or_buf, sep, na_rep, float_format, columns, header, index, index_label, mode, encoding, compression, quoting, quotechar, line_terminator, chunksize, date_format, doublequote, escapechar, decimal, errors, storage_options)\u001b[0m\n\u001b[0;32m   <a href='file:///c%3A/Users/otavi/anaconda3/lib/site-packages/pandas/core/generic.py?line=3539'>3540</a>\u001b[0m df \u001b[39m=\u001b[39m \u001b[39mself\u001b[39m \u001b[39mif\u001b[39;00m \u001b[39misinstance\u001b[39m(\u001b[39mself\u001b[39m, ABCDataFrame) \u001b[39melse\u001b[39;00m \u001b[39mself\u001b[39m\u001b[39m.\u001b[39mto_frame()\n\u001b[0;32m   <a href='file:///c%3A/Users/otavi/anaconda3/lib/site-packages/pandas/core/generic.py?line=3541'>3542</a>\u001b[0m formatter \u001b[39m=\u001b[39m DataFrameFormatter(\n\u001b[0;32m   <a href='file:///c%3A/Users/otavi/anaconda3/lib/site-packages/pandas/core/generic.py?line=3542'>3543</a>\u001b[0m     frame\u001b[39m=\u001b[39mdf,\n\u001b[0;32m   <a href='file:///c%3A/Users/otavi/anaconda3/lib/site-packages/pandas/core/generic.py?line=3543'>3544</a>\u001b[0m     header\u001b[39m=\u001b[39mheader,\n\u001b[1;32m   (...)\u001b[0m\n\u001b[0;32m   <a href='file:///c%3A/Users/otavi/anaconda3/lib/site-packages/pandas/core/generic.py?line=3547'>3548</a>\u001b[0m     decimal\u001b[39m=\u001b[39mdecimal,\n\u001b[0;32m   <a href='file:///c%3A/Users/otavi/anaconda3/lib/site-packages/pandas/core/generic.py?line=3548'>3549</a>\u001b[0m )\n\u001b[1;32m-> <a href='file:///c%3A/Users/otavi/anaconda3/lib/site-packages/pandas/core/generic.py?line=3550'>3551</a>\u001b[0m \u001b[39mreturn\u001b[39;00m DataFrameRenderer(formatter)\u001b[39m.\u001b[39;49mto_csv(\n\u001b[0;32m   <a href='file:///c%3A/Users/otavi/anaconda3/lib/site-packages/pandas/core/generic.py?line=3551'>3552</a>\u001b[0m     path_or_buf,\n\u001b[0;32m   <a href='file:///c%3A/Users/otavi/anaconda3/lib/site-packages/pandas/core/generic.py?line=3552'>3553</a>\u001b[0m     line_terminator\u001b[39m=\u001b[39;49mline_terminator,\n\u001b[0;32m   <a href='file:///c%3A/Users/otavi/anaconda3/lib/site-packages/pandas/core/generic.py?line=3553'>3554</a>\u001b[0m     sep\u001b[39m=\u001b[39;49msep,\n\u001b[0;32m   <a href='file:///c%3A/Users/otavi/anaconda3/lib/site-packages/pandas/core/generic.py?line=3554'>3555</a>\u001b[0m     encoding\u001b[39m=\u001b[39;49mencoding,\n\u001b[0;32m   <a href='file:///c%3A/Users/otavi/anaconda3/lib/site-packages/pandas/core/generic.py?line=3555'>3556</a>\u001b[0m     errors\u001b[39m=\u001b[39;49merrors,\n\u001b[0;32m   <a href='file:///c%3A/Users/otavi/anaconda3/lib/site-packages/pandas/core/generic.py?line=3556'>3557</a>\u001b[0m     compression\u001b[39m=\u001b[39;49mcompression,\n\u001b[0;32m   <a href='file:///c%3A/Users/otavi/anaconda3/lib/site-packages/pandas/core/generic.py?line=3557'>3558</a>\u001b[0m     quoting\u001b[39m=\u001b[39;49mquoting,\n\u001b[0;32m   <a href='file:///c%3A/Users/otavi/anaconda3/lib/site-packages/pandas/core/generic.py?line=3558'>3559</a>\u001b[0m     columns\u001b[39m=\u001b[39;49mcolumns,\n\u001b[0;32m   <a href='file:///c%3A/Users/otavi/anaconda3/lib/site-packages/pandas/core/generic.py?line=3559'>3560</a>\u001b[0m     index_label\u001b[39m=\u001b[39;49mindex_label,\n\u001b[0;32m   <a href='file:///c%3A/Users/otavi/anaconda3/lib/site-packages/pandas/core/generic.py?line=3560'>3561</a>\u001b[0m     mode\u001b[39m=\u001b[39;49mmode,\n\u001b[0;32m   <a href='file:///c%3A/Users/otavi/anaconda3/lib/site-packages/pandas/core/generic.py?line=3561'>3562</a>\u001b[0m     chunksize\u001b[39m=\u001b[39;49mchunksize,\n\u001b[0;32m   <a href='file:///c%3A/Users/otavi/anaconda3/lib/site-packages/pandas/core/generic.py?line=3562'>3563</a>\u001b[0m     quotechar\u001b[39m=\u001b[39;49mquotechar,\n\u001b[0;32m   <a href='file:///c%3A/Users/otavi/anaconda3/lib/site-packages/pandas/core/generic.py?line=3563'>3564</a>\u001b[0m     date_format\u001b[39m=\u001b[39;49mdate_format,\n\u001b[0;32m   <a href='file:///c%3A/Users/otavi/anaconda3/lib/site-packages/pandas/core/generic.py?line=3564'>3565</a>\u001b[0m     doublequote\u001b[39m=\u001b[39;49mdoublequote,\n\u001b[0;32m   <a href='file:///c%3A/Users/otavi/anaconda3/lib/site-packages/pandas/core/generic.py?line=3565'>3566</a>\u001b[0m     escapechar\u001b[39m=\u001b[39;49mescapechar,\n\u001b[0;32m   <a href='file:///c%3A/Users/otavi/anaconda3/lib/site-packages/pandas/core/generic.py?line=3566'>3567</a>\u001b[0m     storage_options\u001b[39m=\u001b[39;49mstorage_options,\n\u001b[0;32m   <a href='file:///c%3A/Users/otavi/anaconda3/lib/site-packages/pandas/core/generic.py?line=3567'>3568</a>\u001b[0m )\n",
      "File \u001b[1;32m~\\anaconda3\\lib\\site-packages\\pandas\\io\\formats\\format.py:1180\u001b[0m, in \u001b[0;36mDataFrameRenderer.to_csv\u001b[1;34m(self, path_or_buf, encoding, sep, columns, index_label, mode, compression, quoting, quotechar, line_terminator, chunksize, date_format, doublequote, escapechar, errors, storage_options)\u001b[0m\n\u001b[0;32m   <a href='file:///c%3A/Users/otavi/anaconda3/lib/site-packages/pandas/io/formats/format.py?line=1158'>1159</a>\u001b[0m     created_buffer \u001b[39m=\u001b[39m \u001b[39mFalse\u001b[39;00m\n\u001b[0;32m   <a href='file:///c%3A/Users/otavi/anaconda3/lib/site-packages/pandas/io/formats/format.py?line=1160'>1161</a>\u001b[0m csv_formatter \u001b[39m=\u001b[39m CSVFormatter(\n\u001b[0;32m   <a href='file:///c%3A/Users/otavi/anaconda3/lib/site-packages/pandas/io/formats/format.py?line=1161'>1162</a>\u001b[0m     path_or_buf\u001b[39m=\u001b[39mpath_or_buf,\n\u001b[0;32m   <a href='file:///c%3A/Users/otavi/anaconda3/lib/site-packages/pandas/io/formats/format.py?line=1162'>1163</a>\u001b[0m     line_terminator\u001b[39m=\u001b[39mline_terminator,\n\u001b[1;32m   (...)\u001b[0m\n\u001b[0;32m   <a href='file:///c%3A/Users/otavi/anaconda3/lib/site-packages/pandas/io/formats/format.py?line=1177'>1178</a>\u001b[0m     formatter\u001b[39m=\u001b[39m\u001b[39mself\u001b[39m\u001b[39m.\u001b[39mfmt,\n\u001b[0;32m   <a href='file:///c%3A/Users/otavi/anaconda3/lib/site-packages/pandas/io/formats/format.py?line=1178'>1179</a>\u001b[0m )\n\u001b[1;32m-> <a href='file:///c%3A/Users/otavi/anaconda3/lib/site-packages/pandas/io/formats/format.py?line=1179'>1180</a>\u001b[0m csv_formatter\u001b[39m.\u001b[39;49msave()\n\u001b[0;32m   <a href='file:///c%3A/Users/otavi/anaconda3/lib/site-packages/pandas/io/formats/format.py?line=1181'>1182</a>\u001b[0m \u001b[39mif\u001b[39;00m created_buffer:\n\u001b[0;32m   <a href='file:///c%3A/Users/otavi/anaconda3/lib/site-packages/pandas/io/formats/format.py?line=1182'>1183</a>\u001b[0m     \u001b[39massert\u001b[39;00m \u001b[39misinstance\u001b[39m(path_or_buf, StringIO)\n",
      "File \u001b[1;32m~\\anaconda3\\lib\\site-packages\\pandas\\io\\formats\\csvs.py:241\u001b[0m, in \u001b[0;36mCSVFormatter.save\u001b[1;34m(self)\u001b[0m\n\u001b[0;32m    <a href='file:///c%3A/Users/otavi/anaconda3/lib/site-packages/pandas/io/formats/csvs.py?line=236'>237</a>\u001b[0m \u001b[39m\"\"\"\u001b[39;00m\n\u001b[0;32m    <a href='file:///c%3A/Users/otavi/anaconda3/lib/site-packages/pandas/io/formats/csvs.py?line=237'>238</a>\u001b[0m \u001b[39mCreate the writer & save.\u001b[39;00m\n\u001b[0;32m    <a href='file:///c%3A/Users/otavi/anaconda3/lib/site-packages/pandas/io/formats/csvs.py?line=238'>239</a>\u001b[0m \u001b[39m\"\"\"\u001b[39;00m\n\u001b[0;32m    <a href='file:///c%3A/Users/otavi/anaconda3/lib/site-packages/pandas/io/formats/csvs.py?line=239'>240</a>\u001b[0m \u001b[39m# apply compression and byte/text conversion\u001b[39;00m\n\u001b[1;32m--> <a href='file:///c%3A/Users/otavi/anaconda3/lib/site-packages/pandas/io/formats/csvs.py?line=240'>241</a>\u001b[0m \u001b[39mwith\u001b[39;00m get_handle(\n\u001b[0;32m    <a href='file:///c%3A/Users/otavi/anaconda3/lib/site-packages/pandas/io/formats/csvs.py?line=241'>242</a>\u001b[0m     \u001b[39mself\u001b[39;49m\u001b[39m.\u001b[39;49mfilepath_or_buffer,\n\u001b[0;32m    <a href='file:///c%3A/Users/otavi/anaconda3/lib/site-packages/pandas/io/formats/csvs.py?line=242'>243</a>\u001b[0m     \u001b[39mself\u001b[39;49m\u001b[39m.\u001b[39;49mmode,\n\u001b[0;32m    <a href='file:///c%3A/Users/otavi/anaconda3/lib/site-packages/pandas/io/formats/csvs.py?line=243'>244</a>\u001b[0m     encoding\u001b[39m=\u001b[39;49m\u001b[39mself\u001b[39;49m\u001b[39m.\u001b[39;49mencoding,\n\u001b[0;32m    <a href='file:///c%3A/Users/otavi/anaconda3/lib/site-packages/pandas/io/formats/csvs.py?line=244'>245</a>\u001b[0m     errors\u001b[39m=\u001b[39;49m\u001b[39mself\u001b[39;49m\u001b[39m.\u001b[39;49merrors,\n\u001b[0;32m    <a href='file:///c%3A/Users/otavi/anaconda3/lib/site-packages/pandas/io/formats/csvs.py?line=245'>246</a>\u001b[0m     compression\u001b[39m=\u001b[39;49m\u001b[39mself\u001b[39;49m\u001b[39m.\u001b[39;49mcompression,\n\u001b[0;32m    <a href='file:///c%3A/Users/otavi/anaconda3/lib/site-packages/pandas/io/formats/csvs.py?line=246'>247</a>\u001b[0m     storage_options\u001b[39m=\u001b[39;49m\u001b[39mself\u001b[39;49m\u001b[39m.\u001b[39;49mstorage_options,\n\u001b[0;32m    <a href='file:///c%3A/Users/otavi/anaconda3/lib/site-packages/pandas/io/formats/csvs.py?line=247'>248</a>\u001b[0m ) \u001b[39mas\u001b[39;00m handles:\n\u001b[0;32m    <a href='file:///c%3A/Users/otavi/anaconda3/lib/site-packages/pandas/io/formats/csvs.py?line=248'>249</a>\u001b[0m \n\u001b[0;32m    <a href='file:///c%3A/Users/otavi/anaconda3/lib/site-packages/pandas/io/formats/csvs.py?line=249'>250</a>\u001b[0m     \u001b[39m# Note: self.encoding is irrelevant here\u001b[39;00m\n\u001b[0;32m    <a href='file:///c%3A/Users/otavi/anaconda3/lib/site-packages/pandas/io/formats/csvs.py?line=250'>251</a>\u001b[0m     \u001b[39mself\u001b[39m\u001b[39m.\u001b[39mwriter \u001b[39m=\u001b[39m csvlib\u001b[39m.\u001b[39mwriter(\n\u001b[0;32m    <a href='file:///c%3A/Users/otavi/anaconda3/lib/site-packages/pandas/io/formats/csvs.py?line=251'>252</a>\u001b[0m         handles\u001b[39m.\u001b[39mhandle,\n\u001b[0;32m    <a href='file:///c%3A/Users/otavi/anaconda3/lib/site-packages/pandas/io/formats/csvs.py?line=252'>253</a>\u001b[0m         lineterminator\u001b[39m=\u001b[39m\u001b[39mself\u001b[39m\u001b[39m.\u001b[39mline_terminator,\n\u001b[1;32m   (...)\u001b[0m\n\u001b[0;32m    <a href='file:///c%3A/Users/otavi/anaconda3/lib/site-packages/pandas/io/formats/csvs.py?line=257'>258</a>\u001b[0m         quotechar\u001b[39m=\u001b[39m\u001b[39mself\u001b[39m\u001b[39m.\u001b[39mquotechar,\n\u001b[0;32m    <a href='file:///c%3A/Users/otavi/anaconda3/lib/site-packages/pandas/io/formats/csvs.py?line=258'>259</a>\u001b[0m     )\n\u001b[0;32m    <a href='file:///c%3A/Users/otavi/anaconda3/lib/site-packages/pandas/io/formats/csvs.py?line=260'>261</a>\u001b[0m     \u001b[39mself\u001b[39m\u001b[39m.\u001b[39m_save()\n",
      "File \u001b[1;32m~\\anaconda3\\lib\\site-packages\\pandas\\io\\common.py:789\u001b[0m, in \u001b[0;36mget_handle\u001b[1;34m(path_or_buf, mode, encoding, compression, memory_map, is_text, errors, storage_options)\u001b[0m\n\u001b[0;32m    <a href='file:///c%3A/Users/otavi/anaconda3/lib/site-packages/pandas/io/common.py?line=783'>784</a>\u001b[0m \u001b[39melif\u001b[39;00m \u001b[39misinstance\u001b[39m(handle, \u001b[39mstr\u001b[39m):\n\u001b[0;32m    <a href='file:///c%3A/Users/otavi/anaconda3/lib/site-packages/pandas/io/common.py?line=784'>785</a>\u001b[0m     \u001b[39m# Check whether the filename is to be opened in binary mode.\u001b[39;00m\n\u001b[0;32m    <a href='file:///c%3A/Users/otavi/anaconda3/lib/site-packages/pandas/io/common.py?line=785'>786</a>\u001b[0m     \u001b[39m# Binary mode does not support 'encoding' and 'newline'.\u001b[39;00m\n\u001b[0;32m    <a href='file:///c%3A/Users/otavi/anaconda3/lib/site-packages/pandas/io/common.py?line=786'>787</a>\u001b[0m     \u001b[39mif\u001b[39;00m ioargs\u001b[39m.\u001b[39mencoding \u001b[39mand\u001b[39;00m \u001b[39m\"\u001b[39m\u001b[39mb\u001b[39m\u001b[39m\"\u001b[39m \u001b[39mnot\u001b[39;00m \u001b[39min\u001b[39;00m ioargs\u001b[39m.\u001b[39mmode:\n\u001b[0;32m    <a href='file:///c%3A/Users/otavi/anaconda3/lib/site-packages/pandas/io/common.py?line=787'>788</a>\u001b[0m         \u001b[39m# Encoding\u001b[39;00m\n\u001b[1;32m--> <a href='file:///c%3A/Users/otavi/anaconda3/lib/site-packages/pandas/io/common.py?line=788'>789</a>\u001b[0m         handle \u001b[39m=\u001b[39m \u001b[39mopen\u001b[39;49m(\n\u001b[0;32m    <a href='file:///c%3A/Users/otavi/anaconda3/lib/site-packages/pandas/io/common.py?line=789'>790</a>\u001b[0m             handle,\n\u001b[0;32m    <a href='file:///c%3A/Users/otavi/anaconda3/lib/site-packages/pandas/io/common.py?line=790'>791</a>\u001b[0m             ioargs\u001b[39m.\u001b[39;49mmode,\n\u001b[0;32m    <a href='file:///c%3A/Users/otavi/anaconda3/lib/site-packages/pandas/io/common.py?line=791'>792</a>\u001b[0m             encoding\u001b[39m=\u001b[39;49mioargs\u001b[39m.\u001b[39;49mencoding,\n\u001b[0;32m    <a href='file:///c%3A/Users/otavi/anaconda3/lib/site-packages/pandas/io/common.py?line=792'>793</a>\u001b[0m             errors\u001b[39m=\u001b[39;49merrors,\n\u001b[0;32m    <a href='file:///c%3A/Users/otavi/anaconda3/lib/site-packages/pandas/io/common.py?line=793'>794</a>\u001b[0m             newline\u001b[39m=\u001b[39;49m\u001b[39m\"\u001b[39;49m\u001b[39m\"\u001b[39;49m,\n\u001b[0;32m    <a href='file:///c%3A/Users/otavi/anaconda3/lib/site-packages/pandas/io/common.py?line=794'>795</a>\u001b[0m         )\n\u001b[0;32m    <a href='file:///c%3A/Users/otavi/anaconda3/lib/site-packages/pandas/io/common.py?line=795'>796</a>\u001b[0m     \u001b[39melse\u001b[39;00m:\n\u001b[0;32m    <a href='file:///c%3A/Users/otavi/anaconda3/lib/site-packages/pandas/io/common.py?line=796'>797</a>\u001b[0m         \u001b[39m# Binary mode\u001b[39;00m\n\u001b[0;32m    <a href='file:///c%3A/Users/otavi/anaconda3/lib/site-packages/pandas/io/common.py?line=797'>798</a>\u001b[0m         handle \u001b[39m=\u001b[39m \u001b[39mopen\u001b[39m(handle, ioargs\u001b[39m.\u001b[39mmode)\n",
      "\u001b[1;31mOSError\u001b[0m: [Errno 22] Invalid argument: 'out\\x07ges.csv'"
     ]
    }
   ],
   "source": [
    "ages.to_csv('out\\ages.csv')"
   ]
  },
  {
   "cell_type": "markdown",
   "metadata": {},
   "source": []
  },
  {
   "cell_type": "markdown",
   "metadata": {},
   "source": [
    "## Bibliografia \n",
    "\n",
    " - Grus, J. (2019). Data Science do zero: Primeiras regras com o Python. Alta books.\n",
    " - Bussab, W. D. O., & Morettin, P. A. (2010). Estatística básica. In Estatística básica (pp. xvi-540).\n",
    " \n",
    "#### Data Set disponível em https://rstudio-pubs-static.s3.amazonaws.com/243861_cc96378e0bfd4cefb30bc3110ccccf64.html"
   ]
  }
 ],
 "metadata": {
  "colab": {
   "name": "Parte 1 - Vetores.ipynb",
   "provenance": []
  },
  "kernelspec": {
   "display_name": "Python 3 (ipykernel)",
   "language": "python",
   "name": "python3"
  },
  "language_info": {
   "codemirror_mode": {
    "name": "ipython",
    "version": 3
   },
   "file_extension": ".py",
   "mimetype": "text/x-python",
   "name": "python",
   "nbconvert_exporter": "python",
   "pygments_lexer": "ipython3",
   "version": "3.9.12"
  }
 },
 "nbformat": 4,
 "nbformat_minor": 1
}
